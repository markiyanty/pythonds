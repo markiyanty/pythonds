{
  "nbformat": 4,
  "nbformat_minor": 0,
  "metadata": {
    "colab": {
      "provenance": []
    },
    "kernelspec": {
      "name": "python3",
      "display_name": "Python 3"
    },
    "language_info": {
      "name": "python"
    }
  },
  "cells": [
    {
      "cell_type": "markdown",
      "source": [
        "# I. OOP"
      ],
      "metadata": {
        "id": "5qV_sehzFCTp"
      }
    },
    {
      "cell_type": "markdown",
      "source": [
        "1. (6б). Створіть клас Animal, додайте три атрибути, один з яких має значення за замовчуванням та два методи на свій розсуд."
      ],
      "metadata": {
        "id": "tx_U_hOALyfg"
      }
    },
    {
      "cell_type": "code",
      "source": [
        "class Animal:\n",
        "  def __init__(self, name: str, sound: str,  opened_eyes: bool = True ):\n",
        "    self.name = name\n",
        "    self.opened_eyes = opened_eyes\n",
        "    self.sound = sound\n",
        "\n",
        "  def make_sound(self):\n",
        "    print(self.name + ' is saying ' + self.sound)\n",
        "\n",
        "  def close_eyes(self):\n",
        "    self.opened_eyes = False"
      ],
      "metadata": {
        "id": "-Vf895KaL88N"
      },
      "execution_count": 6,
      "outputs": []
    },
    {
      "cell_type": "markdown",
      "source": [
        "2. (2б). Створіть два обʼєкти цього класу, де один з обʼєктів створюється із дефолтним значенням атрибуту. На одному обʼєкті отримайте значення його атрибуту, а на іншому викличте один з його методів."
      ],
      "metadata": {
        "id": "X_UlOMB0L93w"
      }
    },
    {
      "cell_type": "code",
      "source": [
        "tiger = Animal('tiger', 'A-RRR')\n",
        "python = Animal('snake', 'shhhh', False)\n",
        "\n",
        "print(python.opened_eyes)\n",
        "tiger.make_sound()"
      ],
      "metadata": {
        "id": "7gBu0ESOMCpG",
        "colab": {
          "base_uri": "https://localhost:8080/"
        },
        "outputId": "70acb7e9-7807-4945-ddc2-21b2c8c33e16"
      },
      "execution_count": 7,
      "outputs": [
        {
          "output_type": "stream",
          "name": "stdout",
          "text": [
            "False\n",
            "tiger is saying A-RRR\n"
          ]
        }
      ]
    },
    {
      "cell_type": "markdown",
      "source": [
        "3. (5б). Створіть клас, де атрибути мають різні рівні доступу. Спробуйте отримати їхні значення та опишіть результати."
      ],
      "metadata": {
        "id": "HoqSCZt1MHn5"
      }
    },
    {
      "cell_type": "code",
      "source": [
        "class DemoClass:\n",
        "    def __init__(self):\n",
        "        self.public_attr = \"Це публічний атрибут\"\n",
        "        self._protected_attr = \"Це захищений атрибут\"\n",
        "        self.__private_attr = \"Це приватний атрибут\"\n",
        "\n",
        "    def get_private_attr(self):\n",
        "        return self.__private_attr\n",
        "\n",
        "\n",
        "demo = DemoClass()\n",
        "\n",
        "\n",
        "print(\"Публічний атрибут:\", demo.public_attr)\n",
        "print(\"Захищений атрибут:\", demo._protected_attr)\n",
        "\n",
        "\n",
        "try:\n",
        "    print(\"Приватний атрибут:\", demo.__private_attr)\n",
        "except AttributeError as e:\n",
        "    print(\"Помилка при спробі доступу до приватного атрибуту:\", e)\n",
        "\n",
        "\n",
        "print(\"Приватний атрибут через метод:\", demo.get_private_attr())\n"
      ],
      "metadata": {
        "id": "r9b3vJxBMSPV",
        "colab": {
          "base_uri": "https://localhost:8080/"
        },
        "outputId": "36465793-bf09-4cf8-bce8-9d1bef988fdb"
      },
      "execution_count": 8,
      "outputs": [
        {
          "output_type": "stream",
          "name": "stdout",
          "text": [
            "Публічний атрибут: Це публічний атрибут\n",
            "Захищений атрибут: Це захищений атрибут\n",
            "Помилка при спробі доступу до приватного атрибуту: 'DemoClass' object has no attribute '__private_attr'\n",
            "Приватний атрибут через метод: Це приватний атрибут\n"
          ]
        }
      ]
    },
    {
      "cell_type": "code",
      "source": [],
      "metadata": {
        "id": "zjQp91_k089t"
      },
      "execution_count": null,
      "outputs": []
    },
    {
      "cell_type": "markdown",
      "source": [
        "4. (7б). Як ви розумієте термін self? Для чого використовується метод __init __?"
      ],
      "metadata": {
        "id": "5op2m2vgMSkZ"
      }
    },
    {
      "cell_type": "markdown",
      "source": [
        "* це є поточний обєкт з яким ми працюємо, при використанні __init__ ми ініціалізуємо обєкт класу, щоб в подільшому взаємодіяти саме з цим обєктом"
      ],
      "metadata": {
        "id": "DyiPqNRvMasx"
      }
    },
    {
      "cell_type": "markdown",
      "source": [
        "5. (9б). Створіть клас Фігура без атрибутів, з методом get_area для отримання площі фігури, що повертає 0 та __add __, який приймає self та other в якості аргументів, а повертає суму площин фігур self та other."
      ],
      "metadata": {
        "id": "-6X8EGfjMd2y"
      }
    },
    {
      "cell_type": "code",
      "source": [
        "class Figure:\n",
        "    def get_area(self):\n",
        "        return 0\n",
        "\n",
        "    def __add__(self, other):\n",
        "        return self.get_area() + other.get_area()\n",
        "\n",
        "figure1 = Figure()\n",
        "figure2 = Figure()\n",
        "\n",
        "total_area = figure1 + figure2\n",
        "\n",
        "total_area\n"
      ],
      "metadata": {
        "id": "4rvO_wYUMaEr",
        "colab": {
          "base_uri": "https://localhost:8080/"
        },
        "outputId": "114fefe9-7c1d-44cf-f978-b12c5ac22c1e"
      },
      "execution_count": 12,
      "outputs": [
        {
          "output_type": "execute_result",
          "data": {
            "text/plain": [
              "5"
            ]
          },
          "metadata": {},
          "execution_count": 12
        }
      ]
    },
    {
      "cell_type": "markdown",
      "source": [
        "6. (11б). Створіть 2 дочірніх класи від Фігури: Трикутник та Коло, які мають атрибути, необхідні для розрахунку площин. Визначте метод get_area в кожному з них так, щоби вони розраховували площу в залежності від формули для кожного типу фігури. Створіть обʼєкт класу Трикутник та обʼєкт класу Коло. Виконайте операцію суми за допомогою оператора + між ними."
      ],
      "metadata": {
        "id": "SFcKnnv5Mo_z"
      }
    },
    {
      "cell_type": "code",
      "source": [
        "import math\n",
        "import matplotlib\n",
        "\n",
        "class Triangle(Figure):\n",
        "    def __init__(self, a, b, c):\n",
        "        self.a = a\n",
        "        self.b = b\n",
        "        self.c = c\n",
        "\n",
        "    def get_area(self):\n",
        "        s = (self.a + self.b + self.c) / 2\n",
        "        return math.sqrt(s * (s - self.a) * (s - self.b) * (s - self.c))\n",
        "\n",
        "class Circle(Figure):\n",
        "    def __init__(self, r):\n",
        "        self.r = r\n",
        "\n",
        "    def get_area(self):\n",
        "        return math.pi * self.r**2\n",
        "\n",
        "\n",
        "triangle = Triangle(3, 4, 5)\n",
        "circle = Circle(2)\n",
        "\n",
        "\n",
        "total_area = triangle + circle\n",
        "\n",
        "total_area\n"
      ],
      "metadata": {
        "id": "H3GVNr69Muf3",
        "colab": {
          "base_uri": "https://localhost:8080/"
        },
        "outputId": "eb01f6e6-8a97-4186-e346-4209f9062db2"
      },
      "execution_count": 13,
      "outputs": [
        {
          "output_type": "execute_result",
          "data": {
            "text/plain": [
              "18.566370614359172"
            ]
          },
          "metadata": {},
          "execution_count": 13
        }
      ]
    },
    {
      "cell_type": "markdown",
      "source": [
        "7. (3б). Продемонструйте різницю між isinstance та issubclass."
      ],
      "metadata": {
        "id": "HCvR206YMvLK"
      }
    },
    {
      "cell_type": "code",
      "source": [
        "class Animal:\n",
        "    pass\n",
        "\n",
        "class Dog(Animal):\n",
        "    pass\n",
        "\n",
        "\n",
        "buddy = Dog()\n",
        "\n",
        "\n",
        "print(isinstance(buddy, Dog))  # True, тому що buddy є екземпляром Dog\n",
        "print(isinstance(buddy, Animal))  # True, тому що Dog наслідується від Animal\n",
        "\n",
        "\n",
        "print(issubclass(Dog, Animal))  # True, тому що Dog є підкласом Animal\n",
        "\n",
        "\n",
        "print(issubclass(Animal, Dog))  # False, тому що Animal не є підкласом Dog\n"
      ],
      "metadata": {
        "id": "L_V1bBvDM0GN",
        "colab": {
          "base_uri": "https://localhost:8080/"
        },
        "outputId": "0dc483df-5f62-4bda-bd1d-05405a27a05c"
      },
      "execution_count": 16,
      "outputs": [
        {
          "output_type": "stream",
          "name": "stdout",
          "text": [
            "True\n",
            "True\n",
            "True\n",
            "False\n"
          ]
        }
      ]
    },
    {
      "cell_type": "markdown",
      "source": [
        "8. (13б). Створіть клас BankAccount з приватними атрибутами balance та account_number. Реалізуйте методи поповнення та зняття коштів, забезпечивши належну інкапсуляцію. Підказка: використовуйте декоратори property та setter."
      ],
      "metadata": {
        "id": "jjsaBZ-iM0Qq"
      }
    },
    {
      "cell_type": "code",
      "source": [
        "class BankAccount:\n",
        "    def __init__(self, account_number, initial_balance=0):\n",
        "        self.__balance = initial_balance\n",
        "        self.__account_number = account_number\n",
        "    @property\n",
        "    def balance(self):\n",
        "        return self.__balance\n",
        "\n",
        "    @property\n",
        "    def account_number(self):\n",
        "        return self.__account_number\n",
        "\n",
        "    @account_number.setter\n",
        "    def change_account_number(self, account):\n",
        "        self.__account_number = account\n",
        "\n",
        "    @balance.setter\n",
        "    def change_account_balance(self, balance):\n",
        "        self.__account_balance = balance\n",
        "\n",
        "    def deposit(self, amount):\n",
        "        if amount > 0:\n",
        "            self.__balance += amount\n",
        "            print(f\"Deposited {amount}. New balance: {self.__balance}\")\n",
        "        else:\n",
        "            print(\"Deposit amount must be positive\")\n",
        "\n",
        "    def withdraw(self, amount):\n",
        "        if amount > 0 and amount <= self.__balance:\n",
        "            self.__balance -= amount\n",
        "            print(f\"Withdrew {amount}. New balance: {self.__balance}\")\n",
        "        elif amount > self.__balance:\n",
        "            print(\"Insufficient funds\")\n",
        "        else:\n",
        "            print(\"Withdrawal amount must be positive\")\n",
        "\n",
        "\n",
        "account = BankAccount(\"12345678\", 1000)\n",
        "\n",
        "\n",
        "account.deposit(500)\n",
        "account.withdraw(200)\n",
        "account.withdraw(1500)\n",
        "\n",
        "\n",
        "print(\"Current balance:\", account.balance)\n",
        "\n",
        "try:\n",
        "    account.balance = 3000\n",
        "except AttributeError as e:\n",
        "    print(\"Cannot set attribute:\", e)\n",
        "\n",
        "print('Old account number: ', account.account_number)\n",
        "\n",
        "try:\n",
        "    account.change_account_number = \"87654321\"\n",
        "except AttributeError as e:\n",
        "    print(\"Cannot set attribute:\", e)\n",
        "\n",
        "print('New account number: ', account.account_number)"
      ],
      "metadata": {
        "id": "xCvZ7lh8M7YA",
        "colab": {
          "base_uri": "https://localhost:8080/"
        },
        "outputId": "bedfa5f9-8cc0-4862-a120-29a98eddbf64"
      },
      "execution_count": 4,
      "outputs": [
        {
          "output_type": "stream",
          "name": "stdout",
          "text": [
            "Deposited 500. New balance: 1500\n",
            "Withdrew 200. New balance: 1300\n",
            "Insufficient funds\n",
            "Current balance: 1300\n",
            "Account number: 12345678\n",
            "Cannot set attribute: can't set attribute 'balance'\n",
            "Old account number:  12345678\n",
            "New account number:  87654321\n"
          ]
        }
      ]
    },
    {
      "cell_type": "markdown",
      "source": [
        "9. (11б). Створіть клас Library, який містить список об'єктів типу Book. Реалізуйте методи для додавання книги, видалення книги та відображення списку книг."
      ],
      "metadata": {
        "id": "tIzL2SJTM8ft"
      }
    },
    {
      "cell_type": "code",
      "source": [
        "class Book:\n",
        "  def __init__(self, name: str, author: str):\n",
        "    self.name = name\n",
        "    self.author = author\n",
        "\n",
        "class Library:\n",
        "  def __init__(self):\n",
        "    self.book_collection = []\n",
        "\n",
        "  def add_book(self, book: Book):\n",
        "    self.book_collection.append(book)\n",
        "\n",
        "  def delete_book_by_index(self, index: int):\n",
        "    self.book_collection.pop(index)\n",
        "\n",
        "  def get_list_of_books(self):\n",
        "    for index, book in enumerate(self.book_collection):\n",
        "      print('ID:', index, 'Name: ', book.name, \"\\nAuthor: \",  book.author)\n",
        "\n",
        "\n",
        "lib = Library()\n",
        "lib.add_book(Book('Harry Potter and Cursed Child', \"J. K. Rowling\"))\n",
        "lib.add_book(Book('Harry Potter and Philosopher Stone', \"J. K. Rowling\"))\n",
        "lib.add_book(Book('Harry Potter and Deathly Hallows', \"J. K. Rowling\"))\n",
        "lib.get_list_of_books()\n",
        "lib.delete_book_by_index(0)\n",
        "lib.get_list_of_books()"
      ],
      "metadata": {
        "id": "HWxfJKLtNAUZ",
        "colab": {
          "base_uri": "https://localhost:8080/"
        },
        "outputId": "d2c33952-deb5-4ce6-b105-05537af53abd"
      },
      "execution_count": 16,
      "outputs": [
        {
          "output_type": "stream",
          "name": "stdout",
          "text": [
            "ID: 0 Name:  Harry Potter and Cursed Child \n",
            "Author:  J. K. Rowling\n",
            "ID: 1 Name:  Harry Potter and Philosopher Stone \n",
            "Author:  J. K. Rowling\n",
            "ID: 2 Name:  Harry Potter and Deathly Hallows \n",
            "Author:  J. K. Rowling\n",
            "ID: 0 Name:  Harry Potter and Philosopher Stone \n",
            "Author:  J. K. Rowling\n",
            "ID: 1 Name:  Harry Potter and Deathly Hallows \n",
            "Author:  J. K. Rowling\n"
          ]
        }
      ]
    },
    {
      "cell_type": "markdown",
      "source": [
        "10. (13б). Створіть клас Person з атрибутами name та age. Створіть ще один клас Employee з такими атрибутами, як department та salary. Створіть клас Manager, який успадковує обидва класи Person та Employee. Продемонструйте використання множинної спадковості, створивши обʼєкт класу Manager та отримавши mro для цього класу."
      ],
      "metadata": {
        "id": "lmV8pAwwNIqu"
      }
    },
    {
      "cell_type": "code",
      "source": [
        "class Person:\n",
        "    def __init__(self, name: str, age: int):\n",
        "        self.name = name\n",
        "        self.age = age\n",
        "\n",
        "class Employee:\n",
        "    def __init__(self, department: str, salary: int):\n",
        "        self.department = department\n",
        "        self.salary = salary\n",
        "\n",
        "class Manager(Person, Employee):\n",
        "    def __init__(self, name: str, age: int, department: str, salary:  int):\n",
        "        Person.__init__(self, name, age)\n",
        "        Employee.__init__(self, department, salary)\n",
        "\n",
        "\n",
        "manager = Manager(\"Don Doe\", 40, \"IT\", 80000)\n",
        "\n",
        "\n",
        "print(f\"Name: {manager.name}, Age: {manager.age}, Department: {manager.department}, Salary: {manager.salary}\")\n",
        "print(\"MRO for Manager:\", Manager.__mro__)\n"
      ],
      "metadata": {
        "id": "R49grKlWNPeN",
        "colab": {
          "base_uri": "https://localhost:8080/"
        },
        "outputId": "66915786-77e7-46c6-d53f-31808ac006ea"
      },
      "execution_count": 17,
      "outputs": [
        {
          "output_type": "stream",
          "name": "stdout",
          "text": [
            "Name: John Doe, Age: 40, Department: IT, Salary: 80000\n",
            "MRO for Manager: (<class '__main__.Manager'>, <class '__main__.Person'>, <class '__main__.Employee'>, <class 'object'>)\n"
          ]
        }
      ]
    },
    {
      "cell_type": "markdown",
      "source": [
        "# II. Iterator"
      ],
      "metadata": {
        "id": "dIJyUiNBFG8G"
      }
    },
    {
      "cell_type": "markdown",
      "source": [
        "11. (4б). Визначте рядок(str) з 4ма різними за значенням символами. Створіть ітератор на основі цього рядка. Викличте 5 разів функцію next на ітераторі, 4ри перших з них огорніть у ф-цію print()."
      ],
      "metadata": {
        "id": "13vsm0NyKIzL"
      }
    },
    {
      "cell_type": "code",
      "source": [
        "s = \"abcdd\"\n",
        "\n",
        "iterator = iter(s)\n",
        "\n",
        "print(next(iterator))\n",
        "print(next(iterator))\n",
        "print(next(iterator))\n",
        "print(next(iterator))\n",
        "\n",
        "\n",
        "try:\n",
        "    next(iterator)\n",
        "except StopIteration:\n",
        "    print(\"Reached the end of the iterator, no more elements.\")\n"
      ],
      "metadata": {
        "id": "81ntabAkKuz-",
        "colab": {
          "base_uri": "https://localhost:8080/"
        },
        "outputId": "744df9f8-b3a1-4bb1-f538-b84ee61b7c3e"
      },
      "execution_count": 18,
      "outputs": [
        {
          "output_type": "stream",
          "name": "stdout",
          "text": [
            "a\n",
            "b\n",
            "c\n",
            "d\n"
          ]
        }
      ]
    },
    {
      "cell_type": "markdown",
      "source": [
        "А що якщо викликати цю ж функцію на рядку?"
      ],
      "metadata": {
        "id": "aekWHGXOLRsO"
      }
    },
    {
      "cell_type": "code",
      "source": [
        "try:\n",
        "    print(next(s))\n",
        "except TypeError as e:\n",
        "    print(\"Error:\", e)"
      ],
      "metadata": {
        "id": "mxATGsErLV1i",
        "colab": {
          "base_uri": "https://localhost:8080/"
        },
        "outputId": "b5895688-e865-48d8-84bb-c0615f27c4fa"
      },
      "execution_count": 19,
      "outputs": [
        {
          "output_type": "stream",
          "name": "stdout",
          "text": [
            "Error: 'str' object is not an iterator\n"
          ]
        }
      ]
    },
    {
      "cell_type": "markdown",
      "source": [
        " 12. (5б). Опишіть своїми словами в одному реченні, як ви розумієте різницю між ітерабельними обʼєктами та ітераторами (можна на прикладі)."
      ],
      "metadata": {
        "id": "XwtMEopwJ4pH"
      }
    },
    {
      "cell_type": "markdown",
      "source": [
        "Ітерабельні об'єкти - це ті, по яких можна пройтися в циклі , тоді як ітератори - це спеціальні об'єкти, які використовуються для навігації по ітерабельним об'єктам та отримання їхніх елементів по одному за допомогою методу next()"
      ],
      "metadata": {
        "id": "-sHrODc3KFn8"
      }
    },
    {
      "cell_type": "markdown",
      "source": [
        "13. (11б). Створіть клас, що має визначений Iterator Protocol та при кожному виклику next повертає літери англійської абетки, поки вони не вичерпаються."
      ],
      "metadata": {
        "id": "E9qJWmNbK8Gl"
      }
    },
    {
      "cell_type": "code",
      "source": [
        "class AlphabetIterator:\n",
        "    def __init__(self):\n",
        "        self.letters = 'ABCDEFGHIJKLMNOPQRSTUVWXYZ'\n",
        "        self.index = 0\n",
        "\n",
        "    def __iter__(self):\n",
        "        return self\n",
        "\n",
        "    def __next__(self):\n",
        "        if self.index < len(self.letters):\n",
        "            letter = self.letters[self.index]\n",
        "            self.index += 1\n",
        "            return letter\n",
        "        else:\n",
        "            print(\"Усьо, мити ноги і спати\")\n",
        "            raise StopIteration\n",
        "\n",
        "\n",
        "alphabet_iterator = AlphabetIterator()\n",
        "\n",
        "for letter in alphabet_iterator:\n",
        "    print(letter)\n"
      ],
      "metadata": {
        "id": "cqx-g_RsLo6I",
        "colab": {
          "base_uri": "https://localhost:8080/"
        },
        "outputId": "1fe221d4-f291-4571-e60b-801c990c6bf4"
      },
      "execution_count": 24,
      "outputs": [
        {
          "output_type": "stream",
          "name": "stdout",
          "text": [
            "A\n",
            "B\n",
            "C\n",
            "D\n",
            "E\n",
            "F\n",
            "G\n",
            "H\n",
            "I\n",
            "J\n",
            "K\n",
            "L\n",
            "M\n",
            "N\n",
            "O\n",
            "P\n",
            "Q\n",
            "R\n",
            "S\n",
            "T\n",
            "U\n",
            "V\n",
            "W\n",
            "X\n",
            "Y\n",
            "Z\n",
            "Усьо, мити ноги і спати\n"
          ]
        }
      ]
    },
    {
      "cell_type": "markdown",
      "source": [
        "# Вітаю! Ви велика(ий) молодець, що впоралась(вся). Похваліть себе та побалуйте чимось приємним. Я Вами пишаюся."
      ],
      "metadata": {
        "id": "Z3E3S_s1Fv7-"
      }
    }
  ]
}